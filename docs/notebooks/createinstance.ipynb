{
 "cells": [
  {
   "cell_type": "markdown",
   "metadata": {},
   "source": [
    "# CreateInstance"
   ]
  },
  {
   "cell_type": "markdown",
   "metadata": {},
   "source": [
    "<a href=\"#\" onclick=\"history.back()\">&lt;--- Back</a>"
   ]
  },
  {
   "cell_type": "markdown",
   "metadata": {},
   "source": [
    "The creation of a CIM instance and in turn the creation of the underlying managed resource is achieved by calling the [`CreateInstance()`](https://pywbem.readthedocs.io/en/latest/client.html#pywbem.WBEMConnection.CreateInstance) method. It takes a [`pywbem.CIMInstance`](https://pywbem.readthedocs.io/en/latest/client.html#pywbem.CIMInstance) object as input, which specifies the class and the initial properties for the CIM instance to be created, and returns a [`pywbem.CIMInstanceName`](https://pywbem.readthedocs.io/en/latest/client.html#pywbem.CIMInstanceName) object that references the new CIM instance.\n",
    "\n",
    "Like for [`DeleteInstance()`](https://pywbem.readthedocs.io/en/latest/client.html#pywbem.WBEMConnection.DeleteInstance), the CIM provider on the WBEM server may or may not support the creation of new CIM instances.\n",
    "\n",
    "Note that the `CIMInstance` object provided as input does not specfify an instance path (or if it does, it will be ignored). The determination of an instance path for the new CIM instance is completely left to the CIM provider in the WBEM server. For CIM classes with natural keys (key properties other than \"InstanceID\"), some CIM providers do honor initial values for some or all of the key properties provided in the input instance."
   ]
  },
  {
   "cell_type": "code",
   "execution_count": null,
   "metadata": {
    "collapsed": false
   },
   "outputs": [],
   "source": [
    "from __future__ import print_function\n",
    "import sys\n",
    "import pywbem\n",
    "\n",
    "username = 'user'\n",
    "password = 'password'\n",
    "classname = 'CIM_ComputerSystem'\n",
    "namespace = 'root/interop'\n",
    "server = 'http://localhost'\n",
    "\n",
    "conn = pywbem.WBEMConnection(server, (username, password),\n",
    "                             default_namespace=namespace,\n",
    "                             no_verification=True)\n",
    "\n",
    "filter_inst = pywbem.CIMInstance(\n",
    "    'CIM_IndicationFilter',\n",
    "    {'Name': 'pywbem_test',\n",
    "     'Query': 'SELECT * FROM CIM_Indication',\n",
    "     'QueryLanguage': 'WQL'})\n",
    "    \n",
    "print('Creating instance of class: %s' % filter_inst.classname)\n",
    "try:\n",
    "    filter_path = conn.CreateInstance(filter_inst, namespace)\n",
    "except pywbem.Error as exc:\n",
    "    if isinstance(exc, pywbem.CIMError) and \\\n",
    "       exc.status_code == pywbem.CIM_ERR_NOT_SUPPORTED:\n",
    "        print('WBEM server does not support creation of dynamic filters.')\n",
    "        filter_path = None\n",
    "    else:\n",
    "        print('CreateInstance failed: %s: %s' % (exc.__class__.__name__, exc))\n",
    "        sys.exit(1)\n",
    "\n",
    "if filter_path is not None:\n",
    "    print('Created instance: %s' % filter_path)\n",
    "    print('Deleting the instance again, to clean up')\n",
    "    try:\n",
    "        conn.DeleteInstance(filter_path)\n",
    "    except pywbem.Error as exc:\n",
    "        print('DeleteInstance failed: %s: %s' % (exc.__class__.__name__, exc))\n",
    "        sys.exit(1)\n",
    "    print('Deleted the instance')"
   ]
  },
  {
   "cell_type": "markdown",
   "metadata": {},
   "source": [
    "<a href=\"#\" onclick=\"history.back()\">&lt;--- Back</a>"
   ]
  }
 ],
 "metadata": {
  "kernelspec": {
   "display_name": "Python 2",
   "language": "python",
   "name": "python2"
  },
  "language_info": {
   "codemirror_mode": {
    "name": "ipython",
    "version": 2
   },
   "file_extension": ".py",
   "mimetype": "text/x-python",
   "name": "python",
   "nbconvert_exporter": "python",
   "pygments_lexer": "ipython2",
   "version": "2.7.11"
  }
 },
 "nbformat": 4,
 "nbformat_minor": 0
}
