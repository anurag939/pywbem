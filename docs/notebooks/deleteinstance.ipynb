{
 "cells": [
  {
   "cell_type": "markdown",
   "metadata": {},
   "source": [
    "# DeleteInstance"
   ]
  },
  {
   "cell_type": "markdown",
   "metadata": {},
   "source": [
    "<a href=\"#\" onclick=\"history.back()\">&lt;--- Back</a>"
   ]
  },
  {
   "cell_type": "markdown",
   "metadata": {},
   "source": [
    "For some CIM classes, it makes no sense to support deletion of their CIM instances. For some others, deletion of its CIM instances and consequently deletion of the represented managed resources is defined. Such a deletion semantics is typically not defined in the class definitions in the CIM Schema, but in their usage definitions in WBEM Management Profiles (see DMTF standard DSP1001). Often, management profiles that define a semantics for the deletion of managed resources, leave that optional for an implementation to support. The implementation for a CIM class in the WBEM server (aka CIM provider) thus may or may not support deletion of its instances and the represented managed resources.\n",
    "\n",
    "The [`DeleteInstance()`](https://pywbem.readthedocs.io/en/latest/client.html#pywbem.WBEMConnection.DeleteInstance) method takes a [`pywbem.CIMInstanceName`](https://pywbem.readthedocs.io/en/latest/client.html#pywbem.CIMInstanceName) object and deletes the referenced CIM instance and the represented managed resource, or rejects the operation if deletion is not supported."
   ]
  },
  {
   "cell_type": "code",
   "execution_count": null,
   "metadata": {
    "collapsed": false
   },
   "outputs": [],
   "source": [
    "from __future__ import print_function\n",
    "import sys\n",
    "import pywbem\n",
    "\n",
    "username = 'user'\n",
    "password = 'password'\n",
    "classname = 'CIM_ComputerSystem'\n",
    "namespace = 'root/cimv2'\n",
    "server = 'http://localhost'\n",
    "\n",
    "conn = pywbem.WBEMConnection(server, (username, password),\n",
    "                             default_namespace=namespace,\n",
    "                             no_verification=True)\n",
    "try:\n",
    "    cs_paths = conn.EnumerateInstanceNames(classname, namespace)\n",
    "except pywbem.Error as exc:\n",
    "    print('EnumerateInstanceNames failed: %s: %s' % (exc.__class__.__name__, exc))\n",
    "    sys.exit(1)\n",
    "\n",
    "if len(cs_paths) > 0:\n",
    "    cs_path = cs_paths[0]\n",
    "    print('Deleting instance at: %s' % cs_path)\n",
    "    try:\n",
    "        conn.DeleteInstance(cs_path)\n",
    "    except pywbem.Error as exc:\n",
    "        if isinstance(exc, pywbem.CIMError) and \\\n",
    "           exc.status_code == pywbem.CIM_ERR_NOT_SUPPORTED:\n",
    "            print('Deletion not supported for instance: %s' % cs_path)\n",
    "        else:\n",
    "            print('DeleteInstance failed: %s: %s' % (exc.__class__.__name__, exc))\n",
    "            sys.exit(1)"
   ]
  },
  {
   "cell_type": "markdown",
   "metadata": {},
   "source": [
    "This example has a somewhat more elaborated failure message that includes the type of exception that happened.\n",
    "\n",
    "This example also shows how specific CIM errors can be detected: If deletion of the CIM instance and the corresponding managed resource is not supported, this example code accepts that and does not error out. All other errors, including other CIM errors, cause an error exit.\n",
    "\n",
    "As it turns out, the CIM provider for class \"CIM_ComputerSystem\" in our WBEM server does not support the deletion of the system it runs on, so the WBEM server returns a failure with CIM status CIM_ERR_NOT_SUPPORTED.\n",
    "\n",
    "PyWBEM maps CIM operation failures to the Python exception [`pywbem.CIMError`](https://pywbem.readthedocs.io/en/latest/client.html#pywbem.CIMError), and raises that in this case. The CIM status code is available as a numeric value in the `status_code` attribute of the exception object. See [CIM status codes](https://pywbem.readthedocs.io/en/latest/client.html#cim-status-codes) for a definition of the CIM status code values."
   ]
  },
  {
   "cell_type": "markdown",
   "metadata": {},
   "source": [
    "<a href=\"#\" onclick=\"history.back()\">&lt;--- Back</a>"
   ]
  }
 ],
 "metadata": {
  "kernelspec": {
   "display_name": "Python 2",
   "language": "python",
   "name": "python2"
  },
  "language_info": {
   "codemirror_mode": {
    "name": "ipython",
    "version": 2
   },
   "file_extension": ".py",
   "mimetype": "text/x-python",
   "name": "python",
   "nbconvert_exporter": "python",
   "pygments_lexer": "ipython2",
   "version": "2.7.11"
  }
 },
 "nbformat": 4,
 "nbformat_minor": 0
}
